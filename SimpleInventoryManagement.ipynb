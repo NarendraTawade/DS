{
  "nbformat": 4,
  "nbformat_minor": 0,
  "metadata": {
    "colab": {
      "provenance": [],
      "authorship_tag": "ABX9TyOJK/Ol4dAEnt2kZQGCyeVj",
      "include_colab_link": true
    },
    "kernelspec": {
      "name": "python3",
      "display_name": "Python 3"
    },
    "language_info": {
      "name": "python"
    }
  },
  "cells": [
    {
      "cell_type": "markdown",
      "metadata": {
        "id": "view-in-github",
        "colab_type": "text"
      },
      "source": [
        "<a href=\"https://colab.research.google.com/github/NarendraTawade/DS/blob/main/SimpleInventoryManagement.ipynb\" target=\"_parent\"><img src=\"https://colab.research.google.com/assets/colab-badge.svg\" alt=\"Open In Colab\"/></a>"
      ]
    },
    {
      "cell_type": "code",
      "execution_count": 14,
      "metadata": {
        "colab": {
          "base_uri": "https://localhost:8080/"
        },
        "id": "0WbEcq6fr3a1",
        "outputId": "af8356fc-294f-46c1-996d-37e5f93a53fc"
      },
      "outputs": [
        {
          "output_type": "execute_result",
          "data": {
            "text/plain": [
              "{'1001': {'name': 'Choco Cake', 'pr': 100, 'qn': 34},\n",
              " '1002': {'name': 'Milk Cake', 'pr': 800, 'qn': 100},\n",
              " '1003': {'name': 'Drink', 'pr': 85, 'qn': 100},\n",
              " '1004': {'name': 'Candy', 'pr': 5, 'qn': 1000},\n",
              " '1005': {'name': 'Pen', 'pr': 20, 'qn': 100},\n",
              " '1006': {'name': 'Phone', 'pr': 50000, 'qn': 10},\n",
              " '1007': {'name': 'Mic', 'pr': 1500, 'qn': 0},\n",
              " '1008': {'name': 'Case', 'pr': 599, 'qn': 5},\n",
              " '1009': {'name': 'Keyboard', 'pr': 1999, 'qn': 10},\n",
              " '1010': {'name': 'Cadbury Celebration', 'pr': 199, 'qn': 100},\n",
              " '1011': {'name': 'Chocolate', 'pr': 49, 'qn': 150},\n",
              " '1012': {'name': 'Goggles', 'pr': 799, 'qn': 89},\n",
              " '1013': {'name': 'School Bags', 'pr': 499, 'qn': 50},\n",
              " '1014': {'name': 'Olive Oil', 'pr': 999, 'qn': 200},\n",
              " '1015': {'name': 'Coconut Oil', 'pr': 299, 'qn': 200},\n",
              " '1016': {'name': 'OTG Cables', 'pr': 49, 'qn': 100},\n",
              " '1017': {'name': 'Showcase', 'pr': 699, 'qn': 30},\n",
              " '1018': {'name': 'Mobile Cases', 'pr': 99, 'qn': 200},\n",
              " '1020': {'name': 'Basket', 'pr': 199, 'qn': 40},\n",
              " '1021': {'name': 'Ear Rings', 'pr': 149, 'qn': 80},\n",
              " '1022': {'name': 'Computer Mouse', 'pr': 249, 'qn': 120},\n",
              " '1023': {'name': 'Pendrives 32GB', 'pr': 649, 'qn': 160},\n",
              " '1024': {'name': 'Bangles', 'pr': 50, 'qn': 1000},\n",
              " '1025': {'name': 'Curtains', 'pr': 449, 'qn': 30},\n",
              " '1026': {'name': 'Photo Frame', 'pr': 349, 'qn': 125},\n",
              " '1027': {'name': 'Knives', 'pr': 30, 'qn': 100},\n",
              " '1028': {'name': 'Sanitizers', 'pr': 1499, 'qn': 85},\n",
              " '1029': {'name': 'Colour Paints Set', 'pr': 200, 'qn': 150},\n",
              " '1030': {'name': 'Table Fan', 'pr': 499, 'qn': 20},\n",
              " '1031': {'name': 'Reynolds Pen', 'pr': 20, 'qn': 100},\n",
              " '1032': {'name': 'Water Bottle', 'pr': 20, 'qn': 120}}"
            ]
          },
          "metadata": {},
          "execution_count": 14
        }
      ],
      "source": [
        "# Importing json\n",
        "import json\n",
        "# Opening the Record.json file in read mode\n",
        "fd = open(\"/content/Records.json\",'r')\n",
        "r = fd.read()\n",
        "fd.close()\n",
        "record = json.loads(r)\n",
        "# Reading the content from Records.json file\n",
        "record"
      ]
    },
    {
      "cell_type": "code",
      "source": [
        "import json\n",
        "\n",
        "# Load existing records from the JSON file\n",
        "def load_records():\n",
        "    try:\n",
        "        with open(\"/content/Records.json\", 'r') as file:\n",
        "            return json.load(file)\n",
        "    except FileNotFoundError:\n",
        "        return {}\n",
        "\n",
        "def save_records(records):\n",
        "    with open(\"/content/Records.json\", 'w') as file:\n",
        "        json.dump(records, file, indent=4)\n",
        "\n",
        "# Function to find product ID by name and price (case-insensitive)\n",
        "def find_product_id_by_details(records, name, price):\n",
        "    for prod_id, details in records.items():\n",
        "        if details['name'].lower() == name.lower() and details['pr'] == price:\n",
        "            return prod_id\n",
        "    return None\n",
        "\n",
        "# Get product details from user input\n",
        "name = str(input(\"Enter product name:\"))\n",
        "pr = int(input(\"Enter product price:\"))\n",
        "qn = int(input(\"Enter product quantity:\"))\n",
        "\n",
        "# Load existing records\n",
        "record = load_records()\n",
        "\n",
        "# Check if a product with the same name (case-insensitive) and price already exists\n",
        "existing_product_id = find_product_id_by_details(record, name, pr)\n",
        "\n",
        "if existing_product_id:\n",
        "    # If product exists, update the quantity\n",
        "    record[existing_product_id]['qn'] += qn\n",
        "    print(f\"Added {qn} units to existing product '{record[existing_product_id]['name']}' (ID: {existing_product_id}) (Qty : {record[existing_product_id]['qn']})\")\n",
        "else:\n",
        "    # Generate a new product ID\n",
        "    new_prod_id = str(int(max(record.keys())) + 1)\n",
        "\n",
        "    # Add the new product to the inventory\n",
        "    record[new_prod_id] = {'name': name, 'pr': pr, 'qn': qn}\n",
        "    print(f\"New product '{name}' added with ID: {new_prod_id}\")\n",
        "\n",
        "# Save updated records back to the JSON file\n",
        "save_records(record)\n",
        "\n",
        "print(\"Inventory updated successfully.\")\n"
      ],
      "metadata": {
        "id": "YhSMdvvFyiIE",
        "colab": {
          "base_uri": "https://localhost:8080/"
        },
        "outputId": "9a9a7a03-88f8-4661-8237-8e7ff989cd04"
      },
      "execution_count": 8,
      "outputs": [
        {
          "output_type": "stream",
          "name": "stdout",
          "text": [
            "Enter product name:Water bottle\n",
            "Enter product price:20\n",
            "Enter product quantity:40\n",
            "Added 40 units to existing product 'Water Bottle' (ID: 1032) (Qty : 140)\n",
            "Inventory updated successfully.\n"
          ]
        }
      ]
    },
    {
      "cell_type": "code",
      "source": [
        "# Adding products in the inventory\n",
        "# Function to generate a new product ID\n",
        "def generate_product_id(records):\n",
        "    # Find the highest existing product ID and generate the next ID\n",
        "    if len(records) == 0:\n",
        "        return '1001'  # Start with '1001' if no records exist\n",
        "    else:\n",
        "        existing_ids = [int(pid) for pid in records.keys()]\n",
        "        new_id = max(existing_ids) + 1\n",
        "        return str(new_id)\n",
        "\n",
        "name = str(input(\"Enter name:\"))\n",
        "pr = int(input(\"Enter price:\"))\n",
        "qn = int(input(\"Enter quantity:\"))\n",
        "\n",
        "prod_id = generate_product_id(record)\n",
        "\n",
        "\n",
        "if prod_id in record.keys():\n",
        "  record[prod_id] = {'name': name, 'pr': pr, 'qn': qn+record[prod_id]['qn']}  # To add quantity in the existing product quantity\n",
        "\n",
        "else:\n",
        "  record[prod_id] = {'name': name, 'pr': pr, 'qn': qn}\n",
        "\n",
        "js = json.dumps(record)\n",
        "\n",
        "fd = open(\"/content/Records.json\",'w')\n",
        "fd.write(js)\n",
        "fd.close()"
      ],
      "metadata": {
        "colab": {
          "base_uri": "https://localhost:8080/"
        },
        "id": "toI5XkaVsZFm",
        "outputId": "38347018-4662-4066-ea0e-253e4c220389"
      },
      "execution_count": null,
      "outputs": [
        {
          "name": "stdout",
          "output_type": "stream",
          "text": [
            "Enter product id:1032\n",
            "Enter name:USB Cable\n",
            "Enter price:80\n",
            "Enter quantity:8\n"
          ]
        }
      ]
    },
    {
      "cell_type": "code",
      "source": [
        "# Importing json\n",
        "import json\n",
        "\n",
        "\n",
        "\n",
        "# Opening Records.json file for reading\n",
        "fd = open(\"//content/Records.json\",'r')\n",
        "r = fd.read()\n",
        "fd.close()\n",
        "\n",
        "record = json.loads(r)\n",
        "record"
      ],
      "metadata": {
        "colab": {
          "base_uri": "https://localhost:8080/"
        },
        "id": "Hrvllq5Xs9BX",
        "outputId": "a70936fd-b09c-4b5e-9f29-f101d8f6bb45"
      },
      "execution_count": 9,
      "outputs": [
        {
          "output_type": "execute_result",
          "data": {
            "text/plain": [
              "{'1001': {'name': 'Choco Cake', 'pr': 100, 'qn': 34},\n",
              " '1002': {'name': 'Milk Cake', 'pr': 800, 'qn': 100},\n",
              " '1003': {'name': 'Drink', 'pr': 85, 'qn': 100},\n",
              " '1004': {'name': 'Candy', 'pr': 5, 'qn': 1000},\n",
              " '1005': {'name': 'Pen', 'pr': 20, 'qn': 100},\n",
              " '1006': {'name': 'Phone', 'pr': 50000, 'qn': 10},\n",
              " '1007': {'name': 'Mic', 'pr': 1500, 'qn': 0},\n",
              " '1008': {'name': 'Case', 'pr': 599, 'qn': 5},\n",
              " '1009': {'name': 'Keyboard', 'pr': 1999, 'qn': 10},\n",
              " '1010': {'name': 'Cadbury Celebration', 'pr': 199, 'qn': 100},\n",
              " '1011': {'name': 'Chocolate', 'pr': 49, 'qn': 150},\n",
              " '1012': {'name': 'Goggles', 'pr': 799, 'qn': 89},\n",
              " '1013': {'name': 'School Bags', 'pr': 499, 'qn': 50},\n",
              " '1014': {'name': 'Olive Oil', 'pr': 999, 'qn': 200},\n",
              " '1015': {'name': 'Coconut Oil', 'pr': 299, 'qn': 200},\n",
              " '1016': {'name': 'OTG Cables', 'pr': 49, 'qn': 100},\n",
              " '1017': {'name': 'Showcase', 'pr': 699, 'qn': 30},\n",
              " '1018': {'name': 'Mobile Cases', 'pr': 99, 'qn': 200},\n",
              " '1020': {'name': 'Basket', 'pr': 199, 'qn': 40},\n",
              " '1021': {'name': 'Ear Rings', 'pr': 149, 'qn': 80},\n",
              " '1022': {'name': 'Computer Mouse', 'pr': 249, 'qn': 120},\n",
              " '1023': {'name': 'Pendrives 32GB', 'pr': 649, 'qn': 160},\n",
              " '1024': {'name': 'Bangles', 'pr': 50, 'qn': 1000},\n",
              " '1025': {'name': 'Curtains', 'pr': 449, 'qn': 30},\n",
              " '1026': {'name': 'Photo Frame', 'pr': 349, 'qn': 125},\n",
              " '1027': {'name': 'Knives', 'pr': 30, 'qn': 100},\n",
              " '1028': {'name': 'Sanitizers', 'pr': 1499, 'qn': 85},\n",
              " '1029': {'name': 'Colour Paints Set', 'pr': 200, 'qn': 150},\n",
              " '1030': {'name': 'Table Fan', 'pr': 499, 'qn': 20},\n",
              " '1031': {'name': 'Reynolds Pen', 'pr': 20, 'qn': 100},\n",
              " '1032': {'name': 'Water Bottle', 'pr': 20, 'qn': 140}}"
            ]
          },
          "metadata": {},
          "execution_count": 9
        }
      ]
    },
    {
      "cell_type": "code",
      "source": [
        "# Purchasing a product\n",
        "\n",
        "prod_id  = input(\"Enter the product_Id: \")  #Input from customer\n",
        "cust_quant = int(input(\"Enter the quantity: \"))  # Input from customer for product quantity\n",
        "\n",
        "if prod_id in record.keys():\n",
        "    if cust_quant > record[prod_id]['qn']:\n",
        "        print(\"The Entered Quantity Exceeds The Available Quantity, Available Quantity for product\",record[prod_id]['name'],\"is\",record[prod_id]['qn'],\"pieces\")\n",
        "    else:\n",
        "        print(\"Product: \", record[prod_id]['name'])\n",
        "        print(\"Price: \", record[prod_id]['pr'])\n",
        "        print(\"Billing Amount: \", record[prod_id]['pr'] * cust_quant)\n",
        "        record[prod_id]['qn'] = record[prod_id]['qn'] - cust_quant\n",
        "else:\n",
        "    print(\"Invalid Product ID, Please enter the correct Product ID\")\n",
        "    for i in record.keys():\n",
        "       print(i,record[i]['name'])"
      ],
      "metadata": {
        "colab": {
          "base_uri": "https://localhost:8080/"
        },
        "id": "cf-h1o91s2df",
        "outputId": "4f4d79d1-cbc6-41ed-9b0d-5ec2698bb551"
      },
      "execution_count": 10,
      "outputs": [
        {
          "output_type": "stream",
          "name": "stdout",
          "text": [
            "Enter the product_Id: 1032\n",
            "Enter the quantity: 20\n",
            "Product:  Water Bottle\n",
            "Price:  20\n",
            "Billing Amount:  400\n"
          ]
        }
      ]
    },
    {
      "cell_type": "code",
      "source": [
        "# Sales\n",
        "\n",
        "js = json.dumps(record)\n",
        "\n",
        "fd = open(\"/content/Records.json\",'w')\n",
        "fd.write(js)\n",
        "fd.close()\n",
        "\n",
        "\n",
        "if prod_id in record.keys():\n",
        "    if cust_quant < record[prod_id]['qn']:\n",
        "        print({'prod' : prod_id, 'qn' : cust_quant, 'amount': record[prod_id]['pr'] * cust_quant})"
      ],
      "metadata": {
        "colab": {
          "base_uri": "https://localhost:8080/"
        },
        "id": "YHJa-6jns_I6",
        "outputId": "359578f3-c3da-4144-f96b-8f49e01712a1"
      },
      "execution_count": 11,
      "outputs": [
        {
          "output_type": "stream",
          "name": "stdout",
          "text": [
            "{'prod': '1032', 'qn': 20, 'amount': 400}\n"
          ]
        }
      ]
    },
    {
      "cell_type": "code",
      "source": [
        "num = int(input(\"Enter the transaction number:\"))\n",
        "sales = {num : {'prod' : prod_id, 'qn' : cust_quant, 'amount': record[prod_id]['pr'] * cust_quant}}\n",
        "\n",
        "sales = json.dumps(sales)\n",
        "\n",
        "fd=open(\"/content/sales.json\",'a')\n",
        "fd.write(sales)\n",
        "fd.close()\n",
        "\n",
        "\n",
        "fd=open(\"/content/sales.json\",'r')\n",
        "Sale=fd.read()\n",
        "\n",
        "\n",
        "Sale"
      ],
      "metadata": {
        "colab": {
          "base_uri": "https://localhost:8080/",
          "height": 52
        },
        "id": "0oxaWKV4s_KY",
        "outputId": "9cb07b50-251a-4863-b256-38578e4be139"
      },
      "execution_count": 12,
      "outputs": [
        {
          "name": "stdout",
          "output_type": "stream",
          "text": [
            "Enter the transaction number:1\n"
          ]
        },
        {
          "output_type": "execute_result",
          "data": {
            "text/plain": [
              "'{\"1\": {\"prod\": \"1032\", \"qn\": 20, \"amount\": 400}}'"
            ],
            "application/vnd.google.colaboratory.intrinsic+json": {
              "type": "string"
            }
          },
          "metadata": {},
          "execution_count": 12
        }
      ]
    }
  ]
}